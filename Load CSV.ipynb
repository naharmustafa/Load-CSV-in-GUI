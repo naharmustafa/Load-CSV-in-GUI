{
 "cells": [
  {
   "cell_type": "code",
   "execution_count": null,
   "metadata": {},
   "outputs": [],
   "source": [
    "import pandas as pd \n",
    "import tkinter as tk\n",
    "import tkinter.ttk as ttk\n",
    "from tkinter.filedialog import askopenfile\n",
    "win=tk.Tk()\n",
    "win.title('Load CSV File')\n",
    "def open():\n",
    "    file=askopenfile(mode='r',filetypes=[('CSV File','*.csv')])\n",
    "    content=pd.read_csv(file)\n",
    "    data.insert(tk.END,content)\n",
    "label=tk.Label(win,text='Click on Select')\n",
    "label.grid(row=0,column=0,padx=8,pady=8)\n",
    "button=ttk.Button(win,text='Select File',command=open)\n",
    "button.grid(row=1,column=0,padx=8,pady=8)\n",
    "data=tk.Text(win,height=15,width=90)\n",
    "data.grid(row=3,column=0,columnspan=2)\n",
    "win.mainloop()"
   ]
  }
 ],
 "metadata": {
  "kernelspec": {
   "display_name": "Python 3",
   "language": "python",
   "name": "python3"
  },
  "language_info": {
   "codemirror_mode": {
    "name": "ipython",
    "version": 3
   },
   "file_extension": ".py",
   "mimetype": "text/x-python",
   "name": "python",
   "nbconvert_exporter": "python",
   "pygments_lexer": "ipython3",
   "version": "3.7.7"
  }
 },
 "nbformat": 4,
 "nbformat_minor": 4
}
